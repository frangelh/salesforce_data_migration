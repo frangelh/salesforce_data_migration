{
 "cells": [
  {
   "cell_type": "markdown",
   "metadata": {},
   "source": [
    "# 0 : Import the required libraries and define the Salesforce connection "
   ]
  },
  {
   "cell_type": "code",
   "execution_count": 14,
   "metadata": {},
   "outputs": [
    {
     "name": "stdout",
     "output_type": "stream",
     "text": [
      "Connected to Source: True\n"
     ]
    }
   ],
   "source": [
    "from simple_salesforce import Salesforce\n",
    "import pandas as pd\n",
    "import requests\n",
    "config = pd.read_json('config.json')\n",
    "source_org = Salesforce(username=config['source']['username'], password=config['source']['password'], security_token=config['source']['token'])\n",
    "connected = source_org.session_id is not None\n",
    "print('Connected to Source: '+str(connected))"
   ]
  },
  {
   "cell_type": "markdown",
   "metadata": {},
   "source": [
    "# 1 : Query the Required data from Salesforce"
   ]
  },
  {
   "cell_type": "code",
   "execution_count": 15,
   "metadata": {},
   "outputs": [
    {
     "name": "stdout",
     "output_type": "stream",
     "text": [
      "ContentVersion records found\n"
     ]
    }
   ],
   "source": [
    "query = \"SELECT Id, Title, VersionData,FileExtension FROM ContentVersion\"\n",
    "content_dict = source_org.query_all(query)\n",
    "if content_dict['totalSize'] == 0: \n",
    "    print('No ContentVersion records found')\n",
    "else:\n",
    "    print('ContentVersion records found')"
   ]
  },
  {
   "cell_type": "markdown",
   "metadata": {},
   "source": [
    "# 2 : Use the content VersionData to create a file URL and use Request to do a Http call to this url to download the file"
   ]
  },
  {
   "cell_type": "code",
   "execution_count": 16,
   "metadata": {},
   "outputs": [
    {
     "name": "stdout",
     "output_type": "stream",
     "text": [
      "ContentVersion thflogo downloaded successfully\n"
     ]
    }
   ],
   "source": [
    "for content in content_dict['records']:\n",
    "    baseurl = \"https://brave-impala-f8r87b-dev-ed.trailblaze.my.salesforce.com/\"\n",
    "    content_id = content['Id']\n",
    "    title = content['Title']\n",
    "    fileExtension = content['FileExtension']\n",
    "    version_data_url = baseurl+content['VersionData']\n",
    "    response = requests.get(version_data_url, headers={'Authorization': 'Bearer ' + source_org.session_id})\n",
    "    if response.status_code == 200:\n",
    "        with open( title+'.'+fileExtension, 'wb') as f:\n",
    "            f.write(response.content)\n",
    "        print('ContentVersion ' + title + ' downloaded successfully')\n",
    "    else:\n",
    "        print('ContentVersion ' + title + ' download failed')"
   ]
  }
 ],
 "metadata": {
  "kernelspec": {
   "display_name": "Python 3",
   "language": "python",
   "name": "python3"
  },
  "language_info": {
   "codemirror_mode": {
    "name": "ipython",
    "version": 3
   },
   "file_extension": ".py",
   "mimetype": "text/x-python",
   "name": "python",
   "nbconvert_exporter": "python",
   "pygments_lexer": "ipython3",
   "version": "3.10.2"
  },
  "orig_nbformat": 4
 },
 "nbformat": 4,
 "nbformat_minor": 2
}
