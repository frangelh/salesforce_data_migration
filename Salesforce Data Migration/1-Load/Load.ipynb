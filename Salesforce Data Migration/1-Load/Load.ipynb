{
 "cells": [
  {
   "cell_type": "code",
   "execution_count": null,
   "metadata": {},
   "outputs": [],
   "source": [
    "!pip install simple-salesforce pandas"
   ]
  },
  {
   "cell_type": "markdown",
   "metadata": {},
   "source": [
    "# 0 : Import the required libraries and define the Salesforce connection "
   ]
  },
  {
   "cell_type": "code",
   "execution_count": 11,
   "metadata": {},
   "outputs": [
    {
     "name": "stdout",
     "output_type": "stream",
     "text": [
      "Connected to Target: True\n"
     ]
    }
   ],
   "source": [
    "from simple_salesforce import Salesforce\n",
    "import pandas as pd\n",
    "config = pd.read_json('config.json')\n",
    "target_org = Salesforce(username=config['target']['username'], password=config['target']['password'], security_token=config['target']['token'])\n",
    "connected = target_org.session_id is not None\n",
    "print('Connected to Target: '+str(connected))"
   ]
  },
  {
   "cell_type": "markdown",
   "metadata": {},
   "source": [
    "# 1: Read a CSV File using Pandas and convert the Dataframe into a dict (SimpleSalesforce manage the data as dicts)"
   ]
  },
  {
   "cell_type": "code",
   "execution_count": 12,
   "metadata": {},
   "outputs": [
    {
     "name": "stdout",
     "output_type": "stream",
     "text": [
      "[{'Name': 'Orange', 'Phone': '123-456-7890'}, {'Name': 'Tricom', 'Phone': '987-654-3210'}, {'Name': 'Codetel', 'Phone': '555-123-4567'}]\n"
     ]
    }
   ],
   "source": [
    "account_df = pd.read_csv('accounts.csv')\n",
    "#convert to Dict\n",
    "records = account_df.to_dict('records')\n",
    "print(records)"
   ]
  },
  {
   "cell_type": "markdown",
   "metadata": {},
   "source": [
    "# 2: Insert the data to the Target Org using the target_org connection"
   ]
  },
  {
   "cell_type": "code",
   "execution_count": 13,
   "metadata": {},
   "outputs": [
    {
     "name": "stdout",
     "output_type": "stream",
     "text": [
      "Account Orange created successfully\n",
      "Account Tricom created successfully\n",
      "Account Codetel created successfully\n"
     ]
    }
   ],
   "source": [
    "for account in records:\n",
    "    target_org.Account.create(account)\n",
    "    print('Account ' + account['Name'] + ' created successfully')"
   ]
  },
  {
   "cell_type": "markdown",
   "metadata": {},
   "source": [
    "# 2.1: Wait there is something wrong with this... we are wasting many API Calls to insert the accounts... Let's fix it by using Bulk"
   ]
  },
  {
   "cell_type": "code",
   "execution_count": 14,
   "metadata": {},
   "outputs": [
    {
     "name": "stdout",
     "output_type": "stream",
     "text": [
      "[{'success': True, 'created': True, 'id': '0018b00002XIoNXAA1', 'errors': []}, {'success': True, 'created': True, 'id': '0018b00002XIoNYAA1', 'errors': []}, {'success': True, 'created': True, 'id': '0018b00002XIoNZAA1', 'errors': []}]\n"
     ]
    }
   ],
   "source": [
    "result = target_org.bulk.Account.insert(records)\n",
    "print(result)"
   ]
  },
  {
   "cell_type": "markdown",
   "metadata": {},
   "source": [
    "# 2.2: Even if Bulk is better... Bulkifying is recomended"
   ]
  },
  {
   "cell_type": "code",
   "execution_count": 15,
   "metadata": {},
   "outputs": [
    {
     "name": "stdout",
     "output_type": "stream",
     "text": [
      "Chunk inserted successfully\n"
     ]
    }
   ],
   "source": [
    "chunk_size = 200\n",
    "records_chunks = [] #list of lists\n",
    "\n",
    "for i in range(0, len(records), chunk_size):\n",
    "    chunk = records[i:i + chunk_size]\n",
    "    records_chunks.append(chunk)\n",
    "\n",
    "for chunk in records_chunks:\n",
    "    target_org.bulk.Account.insert(chunk)\n",
    "    print('Chunk inserted successfully')"
   ]
  }
 ],
 "metadata": {
  "kernelspec": {
   "display_name": "Python 3",
   "language": "python",
   "name": "python3"
  },
  "language_info": {
   "codemirror_mode": {
    "name": "ipython",
    "version": 3
   },
   "file_extension": ".py",
   "mimetype": "text/x-python",
   "name": "python",
   "nbconvert_exporter": "python",
   "pygments_lexer": "ipython3",
   "version": "3.10.2"
  },
  "orig_nbformat": 4
 },
 "nbformat": 4,
 "nbformat_minor": 2
}
