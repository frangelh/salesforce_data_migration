{
 "cells": [
  {
   "cell_type": "markdown",
   "metadata": {},
   "source": [
    "# 0 : Import the required libraries and define the Salesforce connection "
   ]
  },
  {
   "cell_type": "code",
   "execution_count": 10,
   "metadata": {},
   "outputs": [
    {
     "name": "stdout",
     "output_type": "stream",
     "text": [
      "Connected to Source: True\n",
      "Connected to Target: True\n"
     ]
    }
   ],
   "source": [
    "from simple_salesforce import Salesforce\n",
    "import pandas as pd\n",
    "\n",
    "#connect to salesforce\n",
    "config = pd.read_json('config.json')\n",
    "source_org = Salesforce(username=config['source']['username'], password=config['source']['password'], security_token=config['source']['token'])\n",
    "target_org = Salesforce(username=config['target']['username'], password=config['target']['password'], security_token=config['target']['token'])\n",
    "connected = source_org.session_id is not None\n",
    "print('Connected to Source: '+str(connected))\n",
    "connected = target_org.session_id is not None\n",
    "print('Connected to Target: '+str(connected))"
   ]
  },
  {
   "cell_type": "markdown",
   "metadata": {},
   "source": [
    "# 1 : Query the data from Source Org"
   ]
  },
  {
   "cell_type": "code",
   "execution_count": 11,
   "metadata": {},
   "outputs": [
    {
     "name": "stdout",
     "output_type": "stream",
     "text": [
      "Contacts:\n",
      "                    Id   LastName                      Email            Phone  \\\n",
      "0   0038b000039sgwJAAQ   Gonzalez              rose@edge.com   (512) 757-6000   \n",
      "1   0038b000039sgwKAAQ     Forbes              sean@edge.com   (512) 757-6000   \n",
      "2   0038b000039sgwLAAQ     Rogers     jrogers@burlington.com   (336) 222-7000   \n",
      "3   0038b000039sgwMAAQ  Stumuller            pat@pyramid.net   (014) 427-4427   \n",
      "4   0038b000039sgwNAAQ      Young      a_young@dickenson.com   (785) 241-6200   \n",
      "5   0038b000039sgwOAAQ       Barr   barr_tim@grandhotels.com   (312) 596-1000   \n",
      "6   0038b000039sgwPAAQ       Bond  bond_john@grandhotels.com   (312) 596-1000   \n",
      "7   0038b000039sgwQAAQ    Pavlova           spavlova@uog.com   (212) 842-5500   \n",
      "8   0038b000039sgwRAAQ      Boyle             lboyle@uog.com   (212) 842-5500   \n",
      "9   0038b000039sgwSAAQ       Levy      b.levy@expressl&t.net   (503) 421-7800   \n",
      "10  0038b000039sgwTAAQ      Davis     j.davis@expressl&t.net   (503) 421-7800   \n",
      "11  0038b000039sgwUAAQ       Grey          jane_gray@uoa.edu   (520) 773-9050   \n",
      "12  0038b000039sgwVAAQ       Song              asong@uog.com   (212) 842-5500   \n",
      "13  0038b000039sgwWAAQ      James             ajames@uog.com  +44 191 4956203   \n",
      "14  0038b000039sgwXAAQ     Ripley            tripley@uog.com   (650) 450-8810   \n",
      "15  0038b000039sgwYAAQ     D'Cruz             ldcruz@uog.com   (650) 450-8810   \n",
      "16  0038b000039sgwZAAQ      Frank       efrank@genepoint.com   (650) 867-3450   \n",
      "17  0038b000039sgwaAAA      Green             agreen@uog.com   (212) 842-5500   \n",
      "18  0038b000039sgwbAAA    Nedaerk                       None             None   \n",
      "19  0038b000039sgwcAAA    Llorrac                       None             None   \n",
      "\n",
      "             AccountId  \n",
      "0   0018b00002UrjGgAAJ  \n",
      "1   0018b00002UrjGgAAJ  \n",
      "2   0018b00002UrjGhAAJ  \n",
      "3   0018b00002UrjGiAAJ  \n",
      "4   0018b00002UrjGjAAJ  \n",
      "5   0018b00002UrjGkAAJ  \n",
      "6   0018b00002UrjGkAAJ  \n",
      "7   0018b00002UrjGlAAJ  \n",
      "8   0018b00002UrjGlAAJ  \n",
      "9   0018b00002UrjGmAAJ  \n",
      "10  0018b00002UrjGmAAJ  \n",
      "11  0018b00002UrjGnAAJ  \n",
      "12  0018b00002UrjGlAAJ  \n",
      "13  0018b00002UrjGoAAJ  \n",
      "14  0018b00002UrjGpAAJ  \n",
      "15  0018b00002UrjGpAAJ  \n",
      "16  0018b00002UrjGqAAJ  \n",
      "17  0018b00002UrjGlAAJ  \n",
      "18  0018b00002UrjGrAAJ  \n",
      "19  0018b00002UrjGrAAJ  \n",
      "Accounts:\n",
      "                    Id                                 Name            Phone\n",
      "0   0018b00002UrjGgAAJ                  Edge Communications   (512) 757-6000\n",
      "1   0018b00002UrjGhAAJ  Burlington Textiles Corp of America   (336) 222-7000\n",
      "2   0018b00002UrjGiAAJ            Pyramid Construction Inc.   (014) 427-4427\n",
      "3   0018b00002UrjGjAAJ                        Dickenson plc   (785) 241-6200\n",
      "4   0018b00002UrjGkAAJ           Grand Hotels & Resorts Ltd   (312) 596-1000\n",
      "5   0018b00002UrjGlAAJ               United Oil & Gas Corp.   (212) 842-5500\n",
      "6   0018b00002UrjGmAAJ      Express Logistics and Transport   (503) 421-7800\n",
      "7   0018b00002UrjGnAAJ                University of Arizona   (520) 773-9050\n",
      "8   0018b00002UrjGoAAJ                 United Oil & Gas, UK  +44 191 4956203\n",
      "9   0018b00002UrjGpAAJ          United Oil & Gas, Singapore   (650) 450-8810\n",
      "10  0018b00002UrjGqAAJ                            GenePoint   (650) 867-3450\n",
      "11  0018b00002UrjGrAAJ                               sForce   (415) 901-7000\n",
      "12  0018b00002UrjGsAAJ      Sample Account for Entitlements             None\n",
      "13  0018b00002XEsl8AAD                               Tricom     987-654-3210\n",
      "14  0018b00002XEtDaAAL                              Codetel     555-123-4567\n",
      "15  0018b00002XEtDVAA1                               Orange     123-456-7890\n"
     ]
    }
   ],
   "source": [
    "#query data\n",
    "contacts_dict = source_org.query_all(\"SELECT Id, LastName, Email, Phone, AccountId FROM Contact\")\n",
    "account_dict = source_org.query_all(\"SELECT Id, Name, Phone FROM Account\")\n",
    "#convert to dataframes\n",
    "accounts_df = pd.DataFrame(account_dict['records']).drop(columns='attributes')\n",
    "contacts_df = pd.DataFrame(contacts_dict['records']).drop(columns='attributes')\n",
    "\n",
    "print('Contacts:')\n",
    "print(contacts_df)\n",
    "print('Accounts:')\n",
    "print(accounts_df)\n"
   ]
  },
  {
   "cell_type": "markdown",
   "metadata": {},
   "source": [
    "# 2 : Clean and Insert the Parent Object data into Salesforce Target Org"
   ]
  },
  {
   "cell_type": "code",
   "execution_count": 12,
   "metadata": {},
   "outputs": [
    {
     "name": "stdout",
     "output_type": "stream",
     "text": [
      "[{'success': False, 'created': False, 'id': None, 'errors': [{'statusCode': 'DUPLICATE_VALUE', 'message': 'duplicate value found: Legacy_Id__c duplicates value on record with id: 0018b00002XIoMdAAL', 'fields': []}]}, {'success': False, 'created': False, 'id': None, 'errors': [{'statusCode': 'DUPLICATE_VALUE', 'message': 'duplicate value found: Legacy_Id__c duplicates value on record with id: 0018b00002XIoMeAAL', 'fields': []}]}, {'success': False, 'created': False, 'id': None, 'errors': [{'statusCode': 'DUPLICATE_VALUE', 'message': 'duplicate value found: Legacy_Id__c duplicates value on record with id: 0018b00002XIoMfAAL', 'fields': []}]}, {'success': False, 'created': False, 'id': None, 'errors': [{'statusCode': 'DUPLICATE_VALUE', 'message': 'duplicate value found: Legacy_Id__c duplicates value on record with id: 0018b00002XIoMgAAL', 'fields': []}]}, {'success': False, 'created': False, 'id': None, 'errors': [{'statusCode': 'DUPLICATE_VALUE', 'message': 'duplicate value found: Legacy_Id__c duplicates value on record with id: 0018b00002XIoMhAAL', 'fields': []}]}, {'success': False, 'created': False, 'id': None, 'errors': [{'statusCode': 'DUPLICATE_VALUE', 'message': 'duplicate value found: Legacy_Id__c duplicates value on record with id: 0018b00002XIoMiAAL', 'fields': []}]}, {'success': False, 'created': False, 'id': None, 'errors': [{'statusCode': 'DUPLICATE_VALUE', 'message': 'duplicate value found: Legacy_Id__c duplicates value on record with id: 0018b00002XIoMjAAL', 'fields': []}]}, {'success': False, 'created': False, 'id': None, 'errors': [{'statusCode': 'DUPLICATE_VALUE', 'message': 'duplicate value found: Legacy_Id__c duplicates value on record with id: 0018b00002XIoMkAAL', 'fields': []}]}, {'success': False, 'created': False, 'id': None, 'errors': [{'statusCode': 'DUPLICATE_VALUE', 'message': 'duplicate value found: Legacy_Id__c duplicates value on record with id: 0018b00002XIoMlAAL', 'fields': []}]}, {'success': False, 'created': False, 'id': None, 'errors': [{'statusCode': 'DUPLICATE_VALUE', 'message': 'duplicate value found: Legacy_Id__c duplicates value on record with id: 0018b00002XIoMmAAL', 'fields': []}]}, {'success': False, 'created': False, 'id': None, 'errors': [{'statusCode': 'DUPLICATE_VALUE', 'message': 'duplicate value found: Legacy_Id__c duplicates value on record with id: 0018b00002XIoMnAAL', 'fields': []}]}, {'success': False, 'created': False, 'id': None, 'errors': [{'statusCode': 'DUPLICATE_VALUE', 'message': 'duplicate value found: Legacy_Id__c duplicates value on record with id: 0018b00002XIoMoAAL', 'fields': []}]}, {'success': False, 'created': False, 'id': None, 'errors': [{'statusCode': 'DUPLICATE_VALUE', 'message': 'duplicate value found: Legacy_Id__c duplicates value on record with id: 0018b00002XIoMpAAL', 'fields': []}]}, {'success': False, 'created': False, 'id': None, 'errors': [{'statusCode': 'DUPLICATE_VALUE', 'message': 'duplicate value found: Legacy_Id__c duplicates value on record with id: 0018b00002XIoMqAAL', 'fields': []}]}, {'success': False, 'created': False, 'id': None, 'errors': [{'statusCode': 'DUPLICATE_VALUE', 'message': 'duplicate value found: Legacy_Id__c duplicates value on record with id: 0018b00002XIoMrAAL', 'fields': []}]}, {'success': False, 'created': False, 'id': None, 'errors': [{'statusCode': 'DUPLICATE_VALUE', 'message': 'duplicate value found: Legacy_Id__c duplicates value on record with id: 0018b00002XIoMsAAL', 'fields': []}]}]\n"
     ]
    }
   ],
   "source": [
    "accounts_df.rename(columns={'Id':'Legacy_Id__c'}, inplace=True)\n",
    "#convert to dictionary\n",
    "accounts_records = accounts_df.to_dict('records')\n",
    "# bulk insert into target org\n",
    "result = target_org.bulk.Account.insert(accounts_records)\n",
    "print(result)"
   ]
  },
  {
   "cell_type": "markdown",
   "metadata": {},
   "source": [
    "# 3 : Create a intersection dataframe to match Source and Target Id's "
   ]
  },
  {
   "cell_type": "code",
   "execution_count": 13,
   "metadata": {},
   "outputs": [
    {
     "name": "stdout",
     "output_type": "stream",
     "text": [
      "                    Id        Legacy_Id__c\n",
      "0   0018b00002XIoNYAA1                None\n",
      "1   0018b00002XIoNZAA1                None\n",
      "2   0018b00002XIoNXAA1                None\n",
      "3   0018b00002XIoNDAA1                None\n",
      "4   0018b00002XIoNEAA1                None\n",
      "5   0018b00002XIoNFAA1                None\n",
      "6   0018b00002XIoNSAA1                None\n",
      "7   0018b00002XIoN8AAL                None\n",
      "8   0018b00002XIoN9AAL                None\n",
      "9   0018b00002XIoNAAA1                None\n",
      "10  0018b00002XIoG9AAL                None\n",
      "11  0018b00002WaM71AAF                None\n",
      "12  0018b00002WaM9vAAF                None\n",
      "13  0018b00002WaMGDAA3                None\n",
      "14  0018b00002WaMAPAA3                None\n",
      "15  0018b00002WaMAZAA3                None\n",
      "16  0018b00002WaMGIAA3                None\n",
      "17  0018b00002WlmLdAAJ                None\n",
      "18  0018b00002WlmLeAAJ                None\n",
      "19  0018b00002WlmLfAAJ                None\n",
      "20  0018b00002WlmLgAAJ                None\n",
      "21  0018b00002WlmLhAAJ                None\n",
      "22  0018b00002WlmLiAAJ                None\n",
      "23  0018b00002WlmLjAAJ                None\n",
      "24  0018b00002WlmLkAAJ                None\n",
      "25  0018b00002WlmLlAAJ                None\n",
      "26  0018b00002WlmLmAAJ                None\n",
      "27  0018b00002WlmLnAAJ                None\n",
      "28  0018b00002WlmLoAAJ                None\n",
      "29  0018b00002WlmLpAAJ                None\n",
      "30  0018b00002XIoN3AAL                None\n",
      "31  0018b00002XIoMyAAL                None\n",
      "32  0018b00002XIoMdAAL  0018b00002UrjGgAAJ\n",
      "33  0018b00002XIoMeAAL  0018b00002UrjGhAAJ\n",
      "34  0018b00002XIoMfAAL  0018b00002UrjGiAAJ\n",
      "35  0018b00002XIoMgAAL  0018b00002UrjGjAAJ\n",
      "36  0018b00002XIoMhAAL  0018b00002UrjGkAAJ\n",
      "37  0018b00002XIoMiAAL  0018b00002UrjGlAAJ\n",
      "38  0018b00002XIoMjAAL  0018b00002UrjGmAAJ\n",
      "39  0018b00002XIoMkAAL  0018b00002UrjGnAAJ\n",
      "40  0018b00002XIoMlAAL  0018b00002UrjGoAAJ\n",
      "41  0018b00002XIoMmAAL  0018b00002UrjGpAAJ\n",
      "42  0018b00002XIoMnAAL  0018b00002UrjGqAAJ\n",
      "43  0018b00002XIoMoAAL  0018b00002UrjGrAAJ\n",
      "44  0018b00002XIoMpAAL  0018b00002UrjGsAAJ\n",
      "45  0018b00002XIoMqAAL  0018b00002XEsl8AAD\n",
      "46  0018b00002XIoMrAAL  0018b00002XEtDaAAL\n",
      "47  0018b00002XIoMsAAL  0018b00002XEtDVAA1\n",
      "48  0018b00002XIoNNAA1                None\n",
      "49  0018b00002XIoMtAAL                None\n",
      "50  0018b00002XIoNmAAL                None\n",
      "51  0018b00002XIoNnAAL                None\n",
      "52  0018b00002XIoNoAAL                None\n"
     ]
    }
   ],
   "source": [
    "#Id and Legacy_Id__c are going to be ObjectId\n",
    "target_account_dict = target_org.query_all(\"SELECT Id, Legacy_Id__c FROM Account\")\n",
    "target_accounts = pd.DataFrame(target_account_dict['records']).drop(columns='attributes')\n",
    "print(target_accounts)"
   ]
  },
  {
   "cell_type": "markdown",
   "metadata": {},
   "source": [
    "# 4 : Contact Union Interception : Join both dataframes with a LEFT JOIN to add the equivalent Id from Interception"
   ]
  },
  {
   "cell_type": "code",
   "execution_count": 14,
   "metadata": {},
   "outputs": [
    {
     "name": "stdout",
     "output_type": "stream",
     "text": [
      "                  Id_x   LastName                      Email            Phone  \\\n",
      "0   0038b000039sgwJAAQ   Gonzalez              rose@edge.com   (512) 757-6000   \n",
      "1   0038b000039sgwKAAQ     Forbes              sean@edge.com   (512) 757-6000   \n",
      "2   0038b000039sgwLAAQ     Rogers     jrogers@burlington.com   (336) 222-7000   \n",
      "3   0038b000039sgwMAAQ  Stumuller            pat@pyramid.net   (014) 427-4427   \n",
      "4   0038b000039sgwNAAQ      Young      a_young@dickenson.com   (785) 241-6200   \n",
      "5   0038b000039sgwOAAQ       Barr   barr_tim@grandhotels.com   (312) 596-1000   \n",
      "6   0038b000039sgwPAAQ       Bond  bond_john@grandhotels.com   (312) 596-1000   \n",
      "7   0038b000039sgwQAAQ    Pavlova           spavlova@uog.com   (212) 842-5500   \n",
      "8   0038b000039sgwRAAQ      Boyle             lboyle@uog.com   (212) 842-5500   \n",
      "9   0038b000039sgwSAAQ       Levy      b.levy@expressl&t.net   (503) 421-7800   \n",
      "10  0038b000039sgwTAAQ      Davis     j.davis@expressl&t.net   (503) 421-7800   \n",
      "11  0038b000039sgwUAAQ       Grey          jane_gray@uoa.edu   (520) 773-9050   \n",
      "12  0038b000039sgwVAAQ       Song              asong@uog.com   (212) 842-5500   \n",
      "13  0038b000039sgwWAAQ      James             ajames@uog.com  +44 191 4956203   \n",
      "14  0038b000039sgwXAAQ     Ripley            tripley@uog.com   (650) 450-8810   \n",
      "15  0038b000039sgwYAAQ     D'Cruz             ldcruz@uog.com   (650) 450-8810   \n",
      "16  0038b000039sgwZAAQ      Frank       efrank@genepoint.com   (650) 867-3450   \n",
      "17  0038b000039sgwaAAA      Green             agreen@uog.com   (212) 842-5500   \n",
      "18  0038b000039sgwbAAA    Nedaerk                       None             None   \n",
      "19  0038b000039sgwcAAA    Llorrac                       None             None   \n",
      "\n",
      "             AccountId                Id_y        Legacy_Id__c  \n",
      "0   0018b00002UrjGgAAJ  0018b00002XIoMdAAL  0018b00002UrjGgAAJ  \n",
      "1   0018b00002UrjGgAAJ  0018b00002XIoMdAAL  0018b00002UrjGgAAJ  \n",
      "2   0018b00002UrjGhAAJ  0018b00002XIoMeAAL  0018b00002UrjGhAAJ  \n",
      "3   0018b00002UrjGiAAJ  0018b00002XIoMfAAL  0018b00002UrjGiAAJ  \n",
      "4   0018b00002UrjGjAAJ  0018b00002XIoMgAAL  0018b00002UrjGjAAJ  \n",
      "5   0018b00002UrjGkAAJ  0018b00002XIoMhAAL  0018b00002UrjGkAAJ  \n",
      "6   0018b00002UrjGkAAJ  0018b00002XIoMhAAL  0018b00002UrjGkAAJ  \n",
      "7   0018b00002UrjGlAAJ  0018b00002XIoMiAAL  0018b00002UrjGlAAJ  \n",
      "8   0018b00002UrjGlAAJ  0018b00002XIoMiAAL  0018b00002UrjGlAAJ  \n",
      "9   0018b00002UrjGmAAJ  0018b00002XIoMjAAL  0018b00002UrjGmAAJ  \n",
      "10  0018b00002UrjGmAAJ  0018b00002XIoMjAAL  0018b00002UrjGmAAJ  \n",
      "11  0018b00002UrjGnAAJ  0018b00002XIoMkAAL  0018b00002UrjGnAAJ  \n",
      "12  0018b00002UrjGlAAJ  0018b00002XIoMiAAL  0018b00002UrjGlAAJ  \n",
      "13  0018b00002UrjGoAAJ  0018b00002XIoMlAAL  0018b00002UrjGoAAJ  \n",
      "14  0018b00002UrjGpAAJ  0018b00002XIoMmAAL  0018b00002UrjGpAAJ  \n",
      "15  0018b00002UrjGpAAJ  0018b00002XIoMmAAL  0018b00002UrjGpAAJ  \n",
      "16  0018b00002UrjGqAAJ  0018b00002XIoMnAAL  0018b00002UrjGqAAJ  \n",
      "17  0018b00002UrjGlAAJ  0018b00002XIoMiAAL  0018b00002UrjGlAAJ  \n",
      "18  0018b00002UrjGrAAJ  0018b00002XIoMoAAL  0018b00002UrjGrAAJ  \n",
      "19  0018b00002UrjGrAAJ  0018b00002XIoMoAAL  0018b00002UrjGrAAJ  \n"
     ]
    }
   ],
   "source": [
    "contacts_df = contacts_df.merge(target_accounts, how='left', left_on='AccountId', right_on='Legacy_Id__c')\n",
    "print(contacts_df)"
   ]
  },
  {
   "cell_type": "markdown",
   "metadata": {},
   "source": [
    "# 5 : Clean the data by dropping no needed columns and rename the ContactId to Legacy__Id__c"
   ]
  },
  {
   "cell_type": "code",
   "execution_count": 15,
   "metadata": {},
   "outputs": [
    {
     "name": "stdout",
     "output_type": "stream",
     "text": [
      "          Legacy_Id__c   LastName                      Email            Phone  \\\n",
      "0   0038b000039sgwJAAQ   Gonzalez              rose@edge.com   (512) 757-6000   \n",
      "1   0038b000039sgwKAAQ     Forbes              sean@edge.com   (512) 757-6000   \n",
      "2   0038b000039sgwLAAQ     Rogers     jrogers@burlington.com   (336) 222-7000   \n",
      "3   0038b000039sgwMAAQ  Stumuller            pat@pyramid.net   (014) 427-4427   \n",
      "4   0038b000039sgwNAAQ      Young      a_young@dickenson.com   (785) 241-6200   \n",
      "5   0038b000039sgwOAAQ       Barr   barr_tim@grandhotels.com   (312) 596-1000   \n",
      "6   0038b000039sgwPAAQ       Bond  bond_john@grandhotels.com   (312) 596-1000   \n",
      "7   0038b000039sgwQAAQ    Pavlova           spavlova@uog.com   (212) 842-5500   \n",
      "8   0038b000039sgwRAAQ      Boyle             lboyle@uog.com   (212) 842-5500   \n",
      "9   0038b000039sgwSAAQ       Levy      b.levy@expressl&t.net   (503) 421-7800   \n",
      "10  0038b000039sgwTAAQ      Davis     j.davis@expressl&t.net   (503) 421-7800   \n",
      "11  0038b000039sgwUAAQ       Grey          jane_gray@uoa.edu   (520) 773-9050   \n",
      "12  0038b000039sgwVAAQ       Song              asong@uog.com   (212) 842-5500   \n",
      "13  0038b000039sgwWAAQ      James             ajames@uog.com  +44 191 4956203   \n",
      "14  0038b000039sgwXAAQ     Ripley            tripley@uog.com   (650) 450-8810   \n",
      "15  0038b000039sgwYAAQ     D'Cruz             ldcruz@uog.com   (650) 450-8810   \n",
      "16  0038b000039sgwZAAQ      Frank       efrank@genepoint.com   (650) 867-3450   \n",
      "17  0038b000039sgwaAAA      Green             agreen@uog.com   (212) 842-5500   \n",
      "18  0038b000039sgwbAAA    Nedaerk                       None             None   \n",
      "19  0038b000039sgwcAAA    Llorrac                       None             None   \n",
      "\n",
      "             AccountId  \n",
      "0   0018b00002XIoMdAAL  \n",
      "1   0018b00002XIoMdAAL  \n",
      "2   0018b00002XIoMeAAL  \n",
      "3   0018b00002XIoMfAAL  \n",
      "4   0018b00002XIoMgAAL  \n",
      "5   0018b00002XIoMhAAL  \n",
      "6   0018b00002XIoMhAAL  \n",
      "7   0018b00002XIoMiAAL  \n",
      "8   0018b00002XIoMiAAL  \n",
      "9   0018b00002XIoMjAAL  \n",
      "10  0018b00002XIoMjAAL  \n",
      "11  0018b00002XIoMkAAL  \n",
      "12  0018b00002XIoMiAAL  \n",
      "13  0018b00002XIoMlAAL  \n",
      "14  0018b00002XIoMmAAL  \n",
      "15  0018b00002XIoMmAAL  \n",
      "16  0018b00002XIoMnAAL  \n",
      "17  0018b00002XIoMiAAL  \n",
      "18  0018b00002XIoMoAAL  \n",
      "19  0018b00002XIoMoAAL  \n"
     ]
    }
   ],
   "source": [
    "contacts_df.drop(columns=['AccountId','Legacy_Id__c'], inplace=True)\n",
    "contacts_df.rename(columns={'Id_x':'Legacy_Id__c'}, inplace=True)\n",
    "contacts_df.rename(columns={'Id_y':'AccountId'}, inplace=True)\n",
    "print(contacts_df)"
   ]
  },
  {
   "cell_type": "markdown",
   "metadata": {},
   "source": [
    "# 6 : Insert the Child object into Salesforce"
   ]
  },
  {
   "cell_type": "code",
   "execution_count": 16,
   "metadata": {},
   "outputs": [
    {
     "name": "stdout",
     "output_type": "stream",
     "text": [
      "[{'success': True, 'created': True, 'id': '0038b00003CuWfAAAV', 'errors': []}, {'success': True, 'created': True, 'id': '0038b00003CuWfBAAV', 'errors': []}, {'success': True, 'created': True, 'id': '0038b00003CuWfCAAV', 'errors': []}, {'success': True, 'created': True, 'id': '0038b00003CuWfDAAV', 'errors': []}, {'success': True, 'created': True, 'id': '0038b00003CuWfEAAV', 'errors': []}, {'success': True, 'created': True, 'id': '0038b00003CuWfFAAV', 'errors': []}, {'success': True, 'created': True, 'id': '0038b00003CuWfGAAV', 'errors': []}, {'success': True, 'created': True, 'id': '0038b00003CuWfHAAV', 'errors': []}, {'success': True, 'created': True, 'id': '0038b00003CuWfIAAV', 'errors': []}, {'success': False, 'created': False, 'id': None, 'errors': [{'statusCode': 'INVALID_EMAIL_ADDRESS', 'message': 'Email: invalid email address: b.levy@expressl&amp;t.net', 'fields': ['Email']}]}, {'success': False, 'created': False, 'id': None, 'errors': [{'statusCode': 'INVALID_EMAIL_ADDRESS', 'message': 'Email: invalid email address: j.davis@expressl&amp;t.net', 'fields': ['Email']}]}, {'success': True, 'created': True, 'id': '0038b00003CuWfJAAV', 'errors': []}, {'success': True, 'created': True, 'id': '0038b00003CuWfKAAV', 'errors': []}, {'success': True, 'created': True, 'id': '0038b00003CuWfLAAV', 'errors': []}, {'success': True, 'created': True, 'id': '0038b00003CuWfMAAV', 'errors': []}, {'success': True, 'created': True, 'id': '0038b00003CuWfNAAV', 'errors': []}, {'success': True, 'created': True, 'id': '0038b00003CuWfOAAV', 'errors': []}, {'success': True, 'created': True, 'id': '0038b00003CuWfPAAV', 'errors': []}, {'success': True, 'created': True, 'id': '0038b00003CuWfQAAV', 'errors': []}, {'success': True, 'created': True, 'id': '0038b00003CuWfRAAV', 'errors': []}]\n"
     ]
    }
   ],
   "source": [
    "#Convert dataframe to dictionary\n",
    "contacts_to_insert = contacts_df.to_dict('records')\n",
    "#bulk insert into target org\n",
    "result = target_org.bulk.Contact.insert(contacts_to_insert)\n",
    "print(result)"
   ]
  }
 ],
 "metadata": {
  "kernelspec": {
   "display_name": "Python 3",
   "language": "python",
   "name": "python3"
  },
  "language_info": {
   "codemirror_mode": {
    "name": "ipython",
    "version": 3
   },
   "file_extension": ".py",
   "mimetype": "text/x-python",
   "name": "python",
   "nbconvert_exporter": "python",
   "pygments_lexer": "ipython3",
   "version": "3.10.2"
  },
  "orig_nbformat": 4
 },
 "nbformat": 4,
 "nbformat_minor": 2
}
